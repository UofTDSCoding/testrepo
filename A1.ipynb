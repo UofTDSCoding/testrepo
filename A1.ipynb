{
 "cells": [
  {
   "cell_type": "markdown",
   "metadata": {},
   "source": [
    "# Assignment #1\n",
    "\n",
    "Do all the questions.\n",
    "\n",
    "In the space below define a variable `x` and store the number `10`.\n",
    "\n"
   ]
  },
  {
   "cell_type": "code",
   "execution_count": 1,
   "metadata": {},
   "outputs": [],
   "source": [
    "def print_reverse(lst):\n",
    "    for item in reversed(lst):\n",
    "        print(item)"
   ]
  },
  {
   "cell_type": "code",
   "execution_count": 2,
   "metadata": {},
   "outputs": [
    {
     "name": "stdout",
     "output_type": "stream",
     "text": [
      "5\n",
      "4\n",
      "3\n",
      "2\n",
      "1\n"
     ]
    }
   ],
   "source": [
    "print_reverse([1, 2, 3, 4, 5])"
   ]
  },
  {
   "cell_type": "code",
   "execution_count": 1,
   "metadata": {},
   "outputs": [
    {
     "name": "stdout",
     "output_type": "stream",
     "text": [
      "10\n"
     ]
    }
   ],
   "source": [
    "x = 10\n",
    "print(x)"
   ]
  },
  {
   "cell_type": "code",
   "execution_count": 1,
   "metadata": {},
   "outputs": [
    {
     "name": "stderr",
     "output_type": "stream",
     "text": [
      "/tmp/ipykernel_19862/3415592393.py:1: DeprecationWarning: \n",
      "Pyarrow will become a required dependency of pandas in the next major release of pandas (pandas 3.0),\n",
      "(to allow more performant data types, such as the Arrow string type, and better interoperability with other libraries)\n",
      "but was not found to be installed on your system.\n",
      "If this would cause problems for you,\n",
      "please provide us feedback at https://github.com/pandas-dev/pandas/issues/54466\n",
      "        \n",
      "  import pandas as pd\n"
     ]
    },
    {
     "data": {
      "text/html": [
       "<div>\n",
       "<style scoped>\n",
       "    .dataframe tbody tr th:only-of-type {\n",
       "        vertical-align: middle;\n",
       "    }\n",
       "\n",
       "    .dataframe tbody tr th {\n",
       "        vertical-align: top;\n",
       "    }\n",
       "\n",
       "    .dataframe thead th {\n",
       "        text-align: right;\n",
       "    }\n",
       "</style>\n",
       "<table border=\"1\" class=\"dataframe\">\n",
       "  <thead>\n",
       "    <tr style=\"text-align: right;\">\n",
       "      <th></th>\n",
       "      <th>0</th>\n",
       "      <th>1</th>\n",
       "      <th>2</th>\n",
       "      <th>3</th>\n",
       "      <th>4</th>\n",
       "    </tr>\n",
       "  </thead>\n",
       "  <tbody>\n",
       "    <tr>\n",
       "      <th>0</th>\n",
       "      <td>-0.213050</td>\n",
       "      <td>-1.905984</td>\n",
       "      <td>0.208215</td>\n",
       "      <td>-0.433767</td>\n",
       "      <td>-0.114786</td>\n",
       "    </tr>\n",
       "    <tr>\n",
       "      <th>1</th>\n",
       "      <td>-0.850769</td>\n",
       "      <td>0.127130</td>\n",
       "      <td>-1.562019</td>\n",
       "      <td>0.212077</td>\n",
       "      <td>-1.042827</td>\n",
       "    </tr>\n",
       "    <tr>\n",
       "      <th>2</th>\n",
       "      <td>-0.271606</td>\n",
       "      <td>-0.181921</td>\n",
       "      <td>1.574458</td>\n",
       "      <td>-1.398645</td>\n",
       "      <td>0.584515</td>\n",
       "    </tr>\n",
       "    <tr>\n",
       "      <th>3</th>\n",
       "      <td>0.151814</td>\n",
       "      <td>-0.858948</td>\n",
       "      <td>0.583758</td>\n",
       "      <td>0.469787</td>\n",
       "      <td>-0.623160</td>\n",
       "    </tr>\n",
       "    <tr>\n",
       "      <th>4</th>\n",
       "      <td>-0.246419</td>\n",
       "      <td>-0.229681</td>\n",
       "      <td>3.761829</td>\n",
       "      <td>-0.451005</td>\n",
       "      <td>-1.192267</td>\n",
       "    </tr>\n",
       "    <tr>\n",
       "      <th>5</th>\n",
       "      <td>-0.209694</td>\n",
       "      <td>0.235071</td>\n",
       "      <td>-0.574996</td>\n",
       "      <td>-0.509835</td>\n",
       "      <td>0.294135</td>\n",
       "    </tr>\n",
       "    <tr>\n",
       "      <th>6</th>\n",
       "      <td>-0.427895</td>\n",
       "      <td>-1.803308</td>\n",
       "      <td>0.785665</td>\n",
       "      <td>0.773477</td>\n",
       "      <td>-0.897776</td>\n",
       "    </tr>\n",
       "    <tr>\n",
       "      <th>7</th>\n",
       "      <td>0.445080</td>\n",
       "      <td>-0.256281</td>\n",
       "      <td>1.023284</td>\n",
       "      <td>-0.735889</td>\n",
       "      <td>1.325795</td>\n",
       "    </tr>\n",
       "    <tr>\n",
       "      <th>8</th>\n",
       "      <td>2.154311</td>\n",
       "      <td>-2.517609</td>\n",
       "      <td>-1.154843</td>\n",
       "      <td>-0.910056</td>\n",
       "      <td>-0.170380</td>\n",
       "    </tr>\n",
       "    <tr>\n",
       "      <th>9</th>\n",
       "      <td>-0.397924</td>\n",
       "      <td>1.366058</td>\n",
       "      <td>1.695537</td>\n",
       "      <td>1.879611</td>\n",
       "      <td>1.432049</td>\n",
       "    </tr>\n",
       "  </tbody>\n",
       "</table>\n",
       "</div>"
      ],
      "text/plain": [
       "          0         1         2         3         4\n",
       "0 -0.213050 -1.905984  0.208215 -0.433767 -0.114786\n",
       "1 -0.850769  0.127130 -1.562019  0.212077 -1.042827\n",
       "2 -0.271606 -0.181921  1.574458 -1.398645  0.584515\n",
       "3  0.151814 -0.858948  0.583758  0.469787 -0.623160\n",
       "4 -0.246419 -0.229681  3.761829 -0.451005 -1.192267\n",
       "5 -0.209694  0.235071 -0.574996 -0.509835  0.294135\n",
       "6 -0.427895 -1.803308  0.785665  0.773477 -0.897776\n",
       "7  0.445080 -0.256281  1.023284 -0.735889  1.325795\n",
       "8  2.154311 -2.517609 -1.154843 -0.910056 -0.170380\n",
       "9 -0.397924  1.366058  1.695537  1.879611  1.432049"
      ]
     },
     "execution_count": 1,
     "metadata": {},
     "output_type": "execute_result"
    }
   ],
   "source": [
    "import pandas as pd\n",
    "import numpy as np\n",
    "\n",
    "df = pd.DataFrame(np.random.randn(10, 5))\n",
    "\n",
    "df"
   ]
  },
  {
   "cell_type": "code",
   "execution_count": null,
   "metadata": {},
   "outputs": [],
   "source": []
  },
  {
   "cell_type": "markdown",
   "metadata": {},
   "source": [
    "You can check if pandas is loaded by trying to print its version. If pandas is loaded, this will print the version number. If it's not loaded, it will raise an error.\n",
    "\n",
    "Here is the Python code to do this:\n",
    "\n"
   ]
  },
  {
   "cell_type": "code",
   "execution_count": 2,
   "metadata": {},
   "outputs": [
    {
     "name": "stdout",
     "output_type": "stream",
     "text": [
      "2.2.0\n"
     ]
    }
   ],
   "source": [
    "try:\n",
    "    import pandas as pd\n",
    "    print(pd.__version__)\n",
    "except ImportError:\n",
    "    print(\"pandas is not installed\")"
   ]
  },
  {
   "cell_type": "markdown",
   "metadata": {},
   "source": [
    "\n",
    "\n",
    "This code first tries to import pandas and print its version. If the import fails, it catches the `ImportError` and prints a message saying that pandas is not installed."
   ]
  },
  {
   "cell_type": "code",
   "execution_count": 3,
   "metadata": {},
   "outputs": [
    {
     "data": {
      "text/plain": [
       "3"
      ]
     },
     "execution_count": 3,
     "metadata": {},
     "output_type": "execute_result"
    }
   ],
   "source": [
    "def add_two_numbers(x, y):\n",
    "    return x + y\n",
    "\n",
    "add_two_numbers(1, 2)"
   ]
  },
  {
   "cell_type": "code",
   "execution_count": 5,
   "metadata": {},
   "outputs": [
    {
     "name": "stdout",
     "output_type": "stream",
     "text": [
      "True\n"
     ]
    }
   ],
   "source": [
    "def add_three_numbers(x, y, z):\n",
    "    return x + y + z\n",
    "\n",
    "\n",
    "def check_if_string_is_palindrome(s):\n",
    "    return s == s[::-1]\n",
    "\n",
    "print(check_if_string_is_palindrome(\"dad\"))"
   ]
  },
  {
   "cell_type": "code",
   "execution_count": null,
   "metadata": {},
   "outputs": [],
   "source": []
  },
  {
   "cell_type": "markdown",
   "metadata": {},
   "source": [
    "You can create a scatter plot of two pandas DataFrame columns using the `plot.scatter()` function. Here's an example:\n",
    "\n"
   ]
  },
  {
   "cell_type": "code",
   "execution_count": null,
   "metadata": {},
   "outputs": [],
   "source": [
    "import pandas as pd\n",
    "import matplotlib.pyplot as plt\n",
    "\n",
    "# Assuming df is your DataFrame and 'col1' and 'col2' are the columns you want to plot\n",
    "df.plot.scatter(x='col1', y='col2')\n",
    "\n",
    "plt.show()"
   ]
  },
  {
   "cell_type": "markdown",
   "metadata": {},
   "source": [
    "\n",
    "\n",
    "Replace `'col1'` and `'col2'` with the names of your columns. This code will create a scatter plot with 'col1' values on the x-axis and 'col2' values on the y-axis. The `plt.show()` function is used to display the plot."
   ]
  }
 ],
 "metadata": {
  "kernelspec": {
   "display_name": "Python 3",
   "language": "python",
   "name": "python3"
  },
  "language_info": {
   "codemirror_mode": {
    "name": "ipython",
    "version": 3
   },
   "file_extension": ".py",
   "mimetype": "text/x-python",
   "name": "python",
   "nbconvert_exporter": "python",
   "pygments_lexer": "ipython3",
   "version": "3.10.13"
  }
 },
 "nbformat": 4,
 "nbformat_minor": 2
}
